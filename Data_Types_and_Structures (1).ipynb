{
  "nbformat": 4,
  "nbformat_minor": 0,
  "metadata": {
    "colab": {
      "provenance": []
    },
    "kernelspec": {
      "name": "python3",
      "display_name": "Python 3"
    },
    "language_info": {
      "name": "python"
    }
  },
  "cells": [
    {
      "cell_type": "markdown",
      "source": [
        "# DATA TYPES AND STRUCTURES"
      ],
      "metadata": {
        "id": "WagIhToXj7vL"
      }
    },
    {
      "cell_type": "markdown",
      "source": [
        "1.WHAT ARE DATA STRUCTURES,AND WHY ARE THEY IMPORTANT?"
      ],
      "metadata": {
        "id": "CS1mNaHcjcHb"
      }
    },
    {
      "cell_type": "markdown",
      "source": [
        "Data Structures are organized ways of storing, managing, and retrieving data so that it can be used efficiently.\n",
        "They define how data is arranged in memory (or storage) and how operations like searching, inserting, deleting, and updating are performed.\n",
        "\n",
        "Common Types of Data Structures\n",
        "Primitive (basic building blocks)\n",
        "\n",
        "Integers, floats, characters, booleans\n",
        "\n",
        "Non-primitive\n",
        "\n",
        "Linear: Arrays, Lists, Stacks, Queues\n",
        "\n",
        "Non-linear: Trees, Graphs\n",
        "\n",
        "Hash-based: Hash tables, Dictionaries\n",
        "\n",
        "Specialized: Heaps, Tries, Linked lists\n",
        "\n",
        "Why Data Structures Are Important\n",
        "Efficiency\n",
        "\n",
        "The right data structure allows operations to run faster (e.g., searching in a balanced tree is much faster than scanning a list).\n",
        "\n",
        "Better Resource Management\n",
        "\n",
        "Helps in optimal use of memory and processing power.\n",
        "\n",
        "Scalability\n",
        "\n",
        "Handles large amounts of data without performance breakdowns.\n",
        "\n",
        "Real-world Applications\n",
        "\n",
        "Databases use trees and hash tables.\n",
        "\n",
        "Social networks use graphs to store connections.\n",
        "\n",
        "Operating systems use queues for task scheduling.\n",
        "\n",
        "Problem Solving\n",
        "\n",
        "Many algorithms (like sorting, pathfinding, or compression) rely on specific data structures to work efficiently.\n",
        "\n",
        "💡 Think of data structures like different types of containers in a kitchen —\n",
        "you choose the right container (box, bottle, jar) based on what you’re storing and how you plan to use it\n",
        "\n",
        "\n",
        "\n",
        "\n",
        "\n",
        "\n",
        "\n",
        "\n",
        "\n",
        "Ask ChatGPT\n"
      ],
      "metadata": {
        "id": "YWIzSMt7js5E"
      }
    },
    {
      "cell_type": "markdown",
      "source": [
        "2.EXPLAIN THE DIFFERENCE BETWEEN MUTABLE AND IMMUTABLE DATA TYPES WITH EXAMPLES."
      ],
      "metadata": {
        "id": "QRO3nlANh_R0"
      }
    },
    {
      "cell_type": "markdown",
      "source": [
        "1. Definition\n",
        "Mutable Data Types → Can be changed after they are created (contents can be updated, added, or removed) without changing their identity (memory location).\n",
        "\n",
        "Immutable Data Types → Cannot be changed after creation. If you try to modify them, Python creates a new object in memory.\n",
        "\n",
        "2. Examples\n",
        "Type\tMutable\tImmutable\n",
        "List\t✅\t❌\n",
        "Dictionary\t✅\t❌\n",
        "Set\t✅\t❌\n",
        "String\t❌\t✅\n",
        "Tuple\t❌\t✅\n",
        "Int / Float / Bool\t❌\t✅\n",
        "\n",
        "3. Example in Python\n",
        "Mutable Example – List\n",
        "python\n",
        "Copy\n",
        "Edit\n",
        "fruits = [\"apple\", \"banana\", \"cherry\"]\n",
        "print(\"Before:\", fruits, id(fruits))\n",
        "\n",
        "fruits.append(\"orange\")  # modifies in place\n",
        "print(\"After:\", fruits, id(fruits))  # same memory location\n",
        "Result: The id (memory address) is the same before and after modification.\n",
        "\n",
        "Immutable Example – String\n",
        "python\n",
        "Copy\n",
        "Edit\n",
        "name = \"Alice\"\n",
        "print(\"Before:\", name, id(name))\n",
        "\n",
        "name = name + \" Smith\"  # creates a new string\n",
        "print(\"After:\", name, id(name))  # different memory location\n",
        "Result: The id changes because a new string object was created.\n",
        "\n",
        "4. Why This Matters\n",
        "Performance: Modifying mutable objects is faster since it avoids creating new objects.\n",
        "\n",
        "Safety: Immutable objects are safer in multi-threaded programs because they can’t be accidentally changed.\n",
        "\n",
        "Usage Choice:\n",
        "\n",
        "Use mutable when you expect data to change (e.g., a shopping cart list).\n",
        "\n",
        "Use immutable when data should remain constant (e.g., days of the week).\n",
        "\n",
        "If you want, I can also give you a memory diagram showing exactly how Python treats mutable vs immutable objects. That usually makes the concept stick permanently.\n",
        "\n",
        "\n",
        "\n",
        "\n",
        "\n",
        "\n",
        "\n",
        "\n",
        "\n",
        "Ask ChatGPT\n"
      ],
      "metadata": {
        "id": "5b0-tpQWi8Hc"
      }
    },
    {
      "cell_type": "markdown",
      "source": [
        "3.WHAT ARE THE MAIN DIFFERENCES BETWEEN LISTS AND TUPLES IN PYTHON?"
      ],
      "metadata": {
        "id": "mdMb0hFDkJxc"
      }
    },
    {
      "cell_type": "markdown",
      "source": [
        "1. Mutability\n",
        "List → Mutable (can be changed after creation)\n",
        "\n",
        "Tuple → Immutable (cannot be changed after creation)\n",
        "\n",
        "# List example (mutable)\n",
        "fruits = [\"apple\", \"banana\"]\n",
        "fruits.append(\"cherry\")  # Works fine\n",
        "\n",
        "# Tuple example (immutable)\n",
        "colors = (\"red\", \"blue\")\n",
        "# colors.append(\"green\")  # ❌ Error: 'tuple' object has no attribute 'append'\n",
        "2. Syntax\n",
        "List → Square brackets []\n",
        "\n",
        "Tuple → Parentheses ()\n",
        "\n",
        "my_list = [1, 2, 3]\n",
        "my_tuple = (1, 2, 3)\n",
        "3. Performance\n",
        "Tuples are faster than lists for iteration and access because they are fixed in size.\n",
        "\n",
        "Lists are slightly slower due to extra flexibility (can grow/shrink).\n",
        "\n",
        "4. Memory Usage\n",
        "Tuples use less memory than lists because they store only fixed data.\n",
        "\n",
        "Lists store additional information for dynamic resizing.\n",
        "\n",
        "5. Use Cases\n",
        "Lists → When you need a collection that can change (e.g., a to-do list).\n",
        "\n",
        "Tuples → When you want fixed data (e.g., coordinates, days of the week).\n",
        "\n",
        "6. Methods Available\n",
        "Lists have many built-in methods (append(), remove(), sort()).\n",
        "\n",
        "Tuples have very few (count(), index()).\n",
        "\n",
        "Quick Comparison Table\n",
        "Feature\tList (Mutable)\tTuple (Immutable)\n",
        "Syntax\t[]\t()\n",
        "Mutability\t✅ Yes\t❌ No\n",
        "Performance\tSlower\tFaster\n",
        "Memory Usage\tMore\tLess\n",
        "Methods\tMany\tFew\n",
        "Use Case\tChangeable data\tFixed data\n",
        "\n"
      ],
      "metadata": {
        "id": "8J5kNu2ElBWs"
      }
    },
    {
      "cell_type": "markdown",
      "source": [
        "4.DESCRIBE HOW DICTIONARIES STORE DATA."
      ],
      "metadata": {
        "id": "pINGHvOiljyD"
      }
    },
    {
      "cell_type": "markdown",
      "source": [
        "1. What a Dictionary Is?\n",
        "A dictionary in Python is an unordered, mutable collection of key–value pairs.\n",
        "Example:\n",
        "\n",
        "student = {\"name\": \"Amit\", \"age\": 18, \"grade\": \"A\"}\n",
        "Here:\n",
        "\n",
        "Keys: \"name\", \"age\", \"grade\"\n",
        "\n",
        "Values: \"Amit\", 18, \"A\"\n",
        "\n",
        "2. How They’re Stored\n",
        "Python dictionaries are implemented using a hash table.\n",
        "\n",
        "Hash Table → A special data structure that maps keys to values very quickly.\n",
        "\n",
        "The key is passed through a hash function → This produces a numeric value (hash value).\n",
        "\n",
        "That hash value decides where the value is stored in memory (a “bucket”).\n",
        "\n",
        "3. Process When Adding Data\n",
        "Example:\n",
        "\n",
        "student[\"roll_no\"] = 101\n",
        "The key \"roll_no\" is hashed to get a number (e.g., 321574).\n",
        "\n",
        "That number is mapped to a specific location in the hash table.\n",
        "\n",
        "The value 101 is stored in that location, linked to the key.\n",
        "\n",
        "4. Process When Retrieving Data\n",
        "Example:\n",
        "\n",
        "print(student[\"name\"])\n",
        "Python hashes \"name\" again.\n",
        "\n",
        "Looks in the hash table for that hash value.\n",
        "\n",
        "Finds the associated value \"Amit\" instantly — no need to search through all items.\n",
        "\n",
        "5. Key Points\n",
        "Keys must be immutable (string, number, tuple, etc.) so their hash value never changes.\n",
        "\n",
        "Values can be anything (any Python object, even lists or other dictionaries).\n",
        "\n",
        "Dictionary lookup is O(1) on average — meaning it’s extremely fast.\n",
        "\n",
        "6. Visualization\n",
        "Think of it like:\n",
        "\n",
        "\n",
        "Key        Hash Value    Stored Value\n",
        "\"name\"  →  873492     →  \"Amit\"\n",
        "\"age\"   →  271944     →  18\n",
        "\"grade\" →  573810     →  \"A\"\n",
        "Python keeps this hidden, but that’s what’s going on under the hood."
      ],
      "metadata": {
        "id": "O3HXQS2smONb"
      }
    },
    {
      "cell_type": "markdown",
      "source": [
        "5.WHY MIGHT YOU USE A SET INSTEAD OF A LIST IN PYTHON?"
      ],
      "metadata": {
        "id": "TC3Kixb8msZq"
      }
    },
    {
      "cell_type": "markdown",
      "source": [
        "Main Reasons to Use a Set Instead of a List\n",
        "1. No Duplicates Allowed\n",
        "Sets automatically remove duplicates.\n",
        "\n",
        "nums = [1, 2, 2, 3]\n",
        "unique_nums = set(nums)\n",
        "print(unique_nums)  # {1, 2, 3}\n",
        "If you want a collection of unique items, sets do it automatically.\n",
        "\n",
        "2. Faster Membership Testing\n",
        "Checking if an item exists in a set is O(1) on average (thanks to hashing), compared to O(n) for a list.\n",
        "\n",
        "# List check\n",
        "3 in [1, 2, 3, 4]  # Slower for large lists\n",
        "\n",
        "# Set check\n",
        "3 in {1, 2, 3, 4}  # Much faster for large sets\n",
        "3. Mathematical Set Operations\n",
        "Sets make it easy to find union, intersection, difference, etc.\n",
        "\n",
        "a = {1, 2, 3}\n",
        "b = {3, 4, 5}\n",
        "print(a & b)  # Intersection → {3}\n",
        "print(a | b)  # Union → {1, 2, 3, 4, 5}\n",
        "print(a - b)  # Difference → {1, 2}\n",
        "4. Clear Intent\n",
        "Using a set tells other programmers “this collection contains unique, unordered items,” making your code easier to read and understand.\n",
        "\n",
        "⚠ When NOT to Use a Set\n",
        "\n",
        "If you need to keep elements in a specific order.\n",
        "\n",
        "If you want to allow duplicates.\n",
        "\n",
        "\n",
        "\n",
        "\n",
        "\n",
        "\n",
        "\n",
        "\n",
        "\n",
        "\n",
        "\n",
        "Ask ChatGPT\n"
      ],
      "metadata": {
        "id": "QOReWl0dnTNS"
      }
    },
    {
      "cell_type": "markdown",
      "source": [
        "6.WHAT IS A STRING IN PYTHON,AND HOW IS IT DIFFERENT FROM A LIST?"
      ],
      "metadata": {
        "id": "ygq3Cx-0nos6"
      }
    },
    {
      "cell_type": "markdown",
      "source": [
        "1. What is a String in Python?\n",
        "A string is an ordered sequence of characters used to store text.\n",
        "\n",
        "It is immutable — once created, its contents cannot be changed.\n",
        "\n",
        "Strings are enclosed in single quotes '...', double quotes \"...\", or triple quotes '''...''' / \"\"\"...\"\"\".\n",
        "\n",
        "Example:\n",
        "\n",
        "name = \"Python\"\n",
        "Here:\n",
        "\n",
        "Characters: 'P', 'y', 't', 'h', 'o', 'n'\n",
        "\n",
        "Each character has an index (0 to 5).\n",
        "\n",
        "2. How Strings Differ from Lists\n",
        "Feature\tString\tList\n",
        "Data type\tSequence of characters\tSequence of any type (numbers, strings, etc.)\n",
        "Mutability\t❌ Immutable\t✅ Mutable\n",
        "Syntax\t\"Hello\" or 'Hello'\t[1, 2, 3]\n",
        "Element type\tAlways characters\tCan be mixed (e.g., [\"apple\", 42, 3.5])\n",
        "Modification\tCannot change a character directly\tCan change, add, or remove elements\n",
        "Methods\tString-specific (upper(), replace())\tList-specific (append(), sort())\n",
        "\n",
        "3. Examples\n",
        "String (Immutable)\n",
        "\n",
        "word = \"hello\"\n",
        "# word[0] = \"H\"  # ❌ Error: strings cannot be changed\n",
        "new_word = \"H\" + word[1:]  # ✅ Creates a new string\n",
        "print(new_word)  # \"Hello\"\n",
        "List (Mutable)\n",
        "\n",
        "fruits = [\"apple\", \"banana\", \"cherry\"]\n",
        "fruits[0] = \"orange\"  # ✅ Modifies in place\n",
        "print(fruits)  # ['orange', 'banana', 'cherry']\n",
        "💡 Key takeaway:\n",
        "\n",
        "Use a string for text that won’t change.\n",
        "\n",
        "Use a list when you need a flexible collection that can store and modify different data types.\n",
        "\n"
      ],
      "metadata": {
        "id": "Rxk3T77BoSsZ"
      }
    },
    {
      "cell_type": "markdown",
      "source": [
        "7.HOW DO TUPLES ENSURE DATA INTEGRITY IN PYTHON?"
      ],
      "metadata": {
        "id": "4ANwLGv2ojsh"
      }
    },
    {
      "cell_type": "markdown",
      "source": [
        "Tuples help ensure data integrity in Python mainly because they are immutable — once created, their contents cannot be changed.\n",
        "\n",
        "1. Immutability = Data Protection\n",
        "A tuple’s elements cannot be:\n",
        "\n",
        "Added\n",
        "\n",
        "Removed\n",
        "\n",
        "Replaced\n",
        "\n",
        "This means the data stays exactly as it was when the tuple was created.\n",
        "\n",
        "Example:\n",
        "\n",
        "coordinates = (28.6139, 77.2090)  # Delhi's latitude & longitude\n",
        "\n",
        "# coordinates[0] = 29.0  # ❌ Error: 'tuple' object does not support item assignment\n",
        "Here, the location’s coordinates are protected from accidental modification.\n",
        "\n",
        "2. Prevents Accidental Changes\n",
        "If you pass a tuple to a function, you can be sure the function won’t accidentally modify it — unlike a list.\n",
        "\n",
        "def update_data(data):\n",
        "    # Try to modify\n",
        "    # data[0] = \"changed\"  # ❌ Not possible\n",
        "    pass\n",
        "\n",
        "record = (\"Alice\", 25)\n",
        "update_data(record)\n",
        "print(record)  # Still ('Alice', 25)\n",
        "3. Useful for Fixed Data Sets\n",
        "Ideal for data that should remain constant, like:\n",
        "\n",
        "Days of the week\n",
        "\n",
        "Configuration constants\n",
        "\n",
        "Geographic coordinates\n",
        "\n",
        "Database table column definitions\n",
        "\n",
        "4. Hashability\n",
        "Because tuples are immutable, they can be used as keys in dictionaries or elements in sets (lists can’t be used this way).\n",
        "\n",
        "This allows tuples to store data that must remain unchanged and reliably retrievable.\n",
        "\n",
        "location_data = {\n",
        "    (28.6139, 77.2090): \"Delhi\",\n",
        "    (19.0760, 72.8777): \"Mumbai\"\n",
        "}\n",
        "✅ In short:\n",
        "Tuples ensure data integrity by locking the data in place, preventing unintended edits, and making them safe to use in contexts where data must remain constant.\n",
        "\n",
        "\n",
        "\n",
        "\n",
        "\n",
        "\n",
        "\n",
        "\n",
        "\n",
        "\n",
        "\n",
        "Ask ChatGPT\n"
      ],
      "metadata": {
        "id": "Jk0FA5ZipHbp"
      }
    },
    {
      "cell_type": "markdown",
      "source": [
        "8.WHAT IS A HASH TABLE,AND HOW DOES IT RELATE TO DICTIONARIES IN PYTHON?"
      ],
      "metadata": {
        "id": "tbQgcApJpXq5"
      }
    },
    {
      "cell_type": "markdown",
      "source": [],
      "metadata": {
        "id": "4-bz7yTeo4e5"
      }
    },
    {
      "cell_type": "markdown",
      "source": [
        "1. What is a Hash Table?\n",
        "A hash table is a data structure that stores key–value pairs and allows very fast lookups by using a hash function.\n",
        "\n",
        "Hash function → Converts a key (e.g., \"name\") into a numeric value called a hash.\n",
        "\n",
        "The hash decides where the value will be stored in an internal array (bucket).\n",
        "\n",
        "Think of it like:\n",
        "\n",
        "A library with lockers — the hash function decides which locker to put your book in, so you can find it instantly later.\n",
        "\n",
        "2. How It Works\n",
        "You give a key.\n",
        "\n",
        "The hash function produces a hash value.\n",
        "\n",
        "That value determines the position in the hash table.\n",
        "\n",
        "The value is stored there.\n",
        "\n",
        "When retrieving, the key is hashed again and the correct value is fetched instantly.\n",
        "\n",
        "3. How This Relates to Python Dictionaries\n",
        "Python’s built-in dict is implemented using a hash table.\n",
        "\n",
        "Keys must be immutable (strings, numbers, tuples, etc.) so that their hash value doesn’t change.\n",
        "\n",
        "Lookup, insertion, and deletion in a dictionary are O(1) on average — very fast.\n",
        "\n",
        "Example:\n",
        "\n",
        "# Dictionary example\n",
        "student = {\"name\": \"Amit\", \"age\": 18}\n",
        "\n",
        "# Lookup\n",
        "print(student[\"name\"])  # Fast: uses hashing internally\n",
        "Under the hood:\n",
        "\n",
        "\"name\" → hash function → memory slot → \"Amit\"\n",
        "\n",
        "4. Handling Collisions\n",
        "Sometimes two keys have the same hash value (collision).\n",
        "\n",
        "Python handles this by open addressing (probing) or chaining (linked lists in buckets), so both can coexist without overwriting each other.\n",
        "\n",
        "5. Advantages\n",
        "Extremely fast lookups compared to lists.\n",
        "\n",
        "Efficient for large datasets.\n",
        "\n",
        "Order of insertion is preserved in modern Python (3.7+).\n",
        "\n",
        "💡 In short:\n",
        "A hash table is the engine under the hood, and a dictionary is Python’s user-friendly car you drive — you don’t have to know how the engine works, but that’s what makes it run fast.\n",
        "\n",
        "\n",
        "\n",
        "\n",
        "\n",
        "\n",
        "\n",
        "\n",
        "\n",
        "\n",
        "\n",
        "Ask ChatGPT\n"
      ],
      "metadata": {
        "id": "kZ5k0q7Pqi5Q"
      }
    },
    {
      "cell_type": "markdown",
      "source": [
        "9.CAN LISTS CONTAIN DIFFERENT DATA TYPES IN PYTHON?"
      ],
      "metadata": {
        "id": "5f1jbcB-rG_A"
      }
    },
    {
      "cell_type": "markdown",
      "source": [
        "Yes ✅ — lists in Python can contain different data types in the same list.\n",
        "\n",
        "1. How It Works\n",
        "A Python list is a flexible, mutable collection.\n",
        "\n",
        "Each element can be any Python object — integer, string, float, boolean, another list, dictionary, etc.\n",
        "\n",
        "Python stores references (pointers) to objects, so types can mix freely.\n",
        "\n",
        "2. Example\n",
        "\n",
        "mixed_list = [42, \"apple\", 3.14, True, [1, 2, 3], {\"key\": \"value\"}]\n",
        "print(mixed_list)\n",
        "Output:\n",
        "\n",
        "[42, 'apple', 3.14, True, [1, 2, 3], {'key': 'value'}]\n",
        "Here:\n",
        "\n",
        "42 → integer\n",
        "\n",
        "\"apple\" → string\n",
        "\n",
        "3.14 → float\n",
        "\n",
        "True → boolean\n",
        "\n",
        "[1, 2, 3] → list\n",
        "\n",
        "{\"key\": \"value\"} → dictionary\n",
        "\n",
        "3. When This is Useful\n",
        "Storing related but different kinds of data together.\n",
        "\n",
        "Representing structured data like:\n",
        "\n",
        "student = [\"Amit\", 18, 9.5, True]\n",
        "(name, age, GPA, is_passed)\n",
        "\n",
        "4. Caution\n",
        "Just because you can mix types doesn’t mean you always should.\n",
        "\n",
        "Mixed types can make code harder to read and may require extra type-checking when processing.\n",
        "\n",
        "\n",
        "\n",
        "\n",
        "\n",
        "\n",
        "\n",
        "\n",
        "\n",
        "\n",
        "\n",
        "Ask ChatGPT\n"
      ],
      "metadata": {
        "id": "vSWeXGwcrpkK"
      }
    },
    {
      "cell_type": "markdown",
      "source": [
        "10.EXPLAIN WHY STRINGS ARE IMMUTABLE IN PYTHON."
      ],
      "metadata": {
        "id": "1Bjg3vFSr5mI"
      }
    },
    {
      "cell_type": "markdown",
      "source": [
        "Strings in Python are immutable because once a string object is created, its content cannot be changed.\n",
        "If you try to modify it, Python creates a new string object instead of changing the original.\n",
        "\n",
        "1. How This Works\n",
        "When you do:\n",
        "\n",
        "name = \"Python\"\n",
        "name = name + \" Rocks\"\n",
        "\"Python\" is stored in memory.\n",
        "\n",
        "\" Rocks\" is stored separately.\n",
        "\n",
        "Python creates a new string \"Python Rocks\" and updates name to point to it.\n",
        "\n",
        "The original \"Python\" stays unchanged (and may be removed by garbage collection if unused).\n",
        "\n",
        "2. Reasons Why Strings Are Immutable\n",
        "a) Efficiency & Performance\n",
        "Strings are heavily used in Python (variable names, keys in dictionaries, etc.).\n",
        "\n",
        "Immutable strings can be interned (shared in memory) to save space and speed up equality checks.\n",
        "\n",
        "b) Hashing & Dictionary Keys\n",
        "Strings are often used as dictionary keys.\n",
        "\n",
        "Keys must not change after being hashed — if strings were mutable, changing them would corrupt the hash table.\n",
        "\n",
        "c) Safety\n",
        "Immutability prevents accidental modification.\n",
        "\n",
        "This is important when passing strings between functions — no one can accidentally alter your original data.\n",
        "\n",
        "3. Demonstration\n",
        "\n",
        "text = \"hello\"\n",
        "print(id(text))  # Memory address before change\n",
        "\n",
        "text = text + \" world\"\n",
        "print(id(text))  # Different memory address after change\n",
        "Output will show different IDs, meaning a new string object was created.\n",
        "\n",
        "✅ In short:\n",
        "Strings are immutable in Python to make them safe, efficient, and reliable for operations like hashing, memory optimization, and data sharing.\n",
        "\n",
        "\n",
        "\n",
        "\n",
        "\n",
        "\n",
        "\n",
        "\n",
        "\n",
        "Ask ChatGPT\n"
      ],
      "metadata": {
        "id": "g6JlvKifsT9n"
      }
    },
    {
      "cell_type": "markdown",
      "source": [
        "11.WHAT ADVANTAGES DO DICTIONARIES OFFER OVER LISTS FOR CERTAIN TASKS?"
      ],
      "metadata": {
        "id": "_0KwYirNshOf"
      }
    },
    {
      "cell_type": "markdown",
      "source": [
        "Dictionaries offer several big advantages over lists when you need to store and retrieve data in Python.\n",
        "\n",
        "1. Fast Lookups (O(1) Average Time)\n",
        "Dictionary: Uses a hash table, so finding a value by key is almost instant.\n",
        "\n",
        "List: You’d have to search through elements (O(n) time).\n",
        "\n",
        "Example:\n",
        "\n",
        "# Dictionary lookup\n",
        "students = {\"Amit\": 18, \"Sara\": 19}\n",
        "print(students[\"Sara\"])  # Fast\n",
        "\n",
        "# List lookup\n",
        "students_list = [(\"Amit\", 18), (\"Sara\", 19)]\n",
        "# Have to loop through to find Sara's age → slower\n",
        "2. Direct Access by Key\n",
        "Dictionary: Access values using meaningful keys (like names, IDs).\n",
        "\n",
        "List: Access only by index (numeric position), which can be less intuitive.\n",
        "\n",
        "3. Better Data Organization\n",
        "Dictionary: Naturally represents key–value relationships.\n",
        "\n",
        "List: Best for ordered sequences without explicit keys.\n",
        "\n",
        "Example:\n",
        "\n",
        "# Dictionary makes it clear:\n",
        "student = {\"name\": \"Amit\", \"age\": 18, \"grade\": \"A\"}\n",
        "# List is less descriptive:\n",
        "student = [\"Amit\", 18, \"A\"]\n",
        "4. No Need for Manual Searching\n",
        "With lists, finding an item means looping through each element until found.\n",
        "\n",
        "With dictionaries, you jump directly to the value via its key.\n",
        "\n",
        "5. Uniqueness of Keys\n",
        "Keys in a dictionary are unique — prevents accidental duplicate entries for the same key.\n",
        "\n",
        "Lists can contain duplicates without warning.\n",
        "\n",
        "6. Flexibility of Values\n",
        "Dictionary values can be any type — lists, other dictionaries, even functions.\n",
        "\n",
        "Lists also allow mixed types, but without a key structure it can be harder to work with.\n",
        "\n",
        "💡 Rule of Thumb:\n",
        "\n",
        "Use a list when you care about order and position.\n",
        "\n",
        "Use a dictionary when you need fast access by a label (key) and a clear mapping between items.\n",
        "\n",
        "\n",
        "\n",
        "\n",
        "\n",
        "\n",
        "\n",
        "\n",
        "\n",
        "\n",
        "\n",
        "Ask ChatGPT\n"
      ],
      "metadata": {
        "id": "R1jpcoLItGmv"
      }
    },
    {
      "cell_type": "markdown",
      "source": [
        "12.DESCRIBE A SCENARIO WHERE USING A TUPLE WOULD BE PREFERABLE OVER A LIST."
      ],
      "metadata": {
        "id": "K3hvFZxEtV0v"
      }
    },
    {
      "cell_type": "markdown",
      "source": [
        "Scenario: Storing Geographic Coordinates\n",
        "Let’s say you’re building a mapping application that stores latitude and longitude for locations:\n",
        "\n",
        "# Using a tuple\n",
        "delhi_coordinates = (28.6139, 77.2090)\n",
        "Why a Tuple is Better Here\n",
        "Data Should Not Change\n",
        "\n",
        "Coordinates for a city are fixed — they shouldn’t be accidentally modified.\n",
        "\n",
        "A tuple’s immutability ensures no part of the coordinate pair changes.\n",
        "\n",
        "Data Integrity\n",
        "\n",
        "If you pass this tuple to functions, you know no function can alter it.\n",
        "\n",
        "Hashability\n",
        "\n",
        "Tuples can be used as dictionary keys, lists can’t.\n",
        "\n",
        "city_locations = {\n",
        "    (28.6139, 77.2090): \"Delhi\",\n",
        "    (19.0760, 72.8777): \"Mumbai\"\n",
        "}\n",
        "Performance\n",
        "\n",
        "Tuples are slightly faster and take less memory compared to lists — helpful when storing many coordinates.\n",
        "\n",
        "✅ In short:\n",
        "If your data is fixed, ordered, and should be protected from changes, a tuple is the right choice. Lists are better for collections that need to be updated over time.\n",
        "\n",
        "\n",
        "\n",
        "\n",
        "\n",
        "\n",
        "\n",
        "\n",
        "\n",
        "\n",
        "Ask ChatGPT\n"
      ],
      "metadata": {
        "id": "kU-qFfrzuBUf"
      }
    },
    {
      "cell_type": "markdown",
      "source": [
        "13.HOW DO SETS HANDLE DUPLICATE VALUES IN PYTHON?"
      ],
      "metadata": {
        "id": "b72Lz5RHuNdn"
      }
    },
    {
      "cell_type": "markdown",
      "source": [
        "In Python, sets automatically remove duplicate values because they are designed to store only unique elements.\n",
        "\n",
        "1. How It Works\n",
        "When you add an element to a set, Python uses a hash function to determine where to store it.\n",
        "\n",
        "If another element with the same value (and hash) is already in the set, Python ignores the new one — no error, no duplicate.\n",
        "\n",
        "2. Example\n",
        "\n",
        "fruits = {\"apple\", \"banana\", \"apple\", \"cherry\"}\n",
        "print(fruits)\n",
        "Output:\n",
        "\n",
        "{'apple', 'banana', 'cherry'}\n",
        "Even though \"apple\" was added twice, it appears only once.\n",
        "\n",
        "3. Adding Duplicates\n",
        "\n",
        "numbers = {1, 2, 3}\n",
        "numbers.add(2)  # Duplicate\n",
        "print(numbers)  # {1, 2, 3}\n",
        "The set remains unchanged when you try to add a duplicate.\n",
        "\n",
        "4. Why This is Useful\n",
        "Automatically cleans your data.\n",
        "\n",
        "Useful for:\n",
        "\n",
        "Removing duplicates from a list:\n",
        "\n",
        "unique_items = set([1, 2, 2, 3, 3, 4])\n",
        "print(unique_items)  # {1, 2, 3, 4}\n",
        "Checking membership quickly without worrying about duplicates.\n",
        "\n",
        "💡 In short:\n",
        "Sets handle duplicates by ignoring them, ensuring each element appears only once.\n",
        "\n"
      ],
      "metadata": {
        "id": "jcCzCcHIup_n"
      }
    },
    {
      "cell_type": "markdown",
      "source": [
        "14.HOW DOES THE \"in\" KEYWORD WORK DIFFERENTLY FOR LISTS AND DICTIONARIES?"
      ],
      "metadata": {
        "id": "P0wXaTdWu8o4"
      }
    },
    {
      "cell_type": "markdown",
      "source": [
        "The in keyword is used for membership testing in Python — but it works differently for lists and dictionaries.\n",
        "\n",
        "1. For Lists\n",
        "Checks if a value exists in the list (searches through all elements).\n",
        "\n",
        "Works with values, not positions.\n",
        "\n",
        "Example:\n",
        "\n",
        "fruits = [\"apple\", \"banana\", \"cherry\"]\n",
        "print(\"apple\" in fruits)   # True\n",
        "print(\"orange\" in fruits)  # False\n",
        "🔍 How it works: Python scans each element until it finds a match (O(n) time complexity).\n",
        "\n",
        "2. For Dictionaries\n",
        "Checks if a key exists in the dictionary, not a value.\n",
        "\n",
        "To check values, you must explicitly use .values().\n",
        "\n",
        "Example:\n",
        "\n",
        "student = {\"name\": \"Amit\", \"age\": 18}\n",
        "\n",
        "print(\"name\" in student)       # True (checks keys)\n",
        "print(\"Amit\" in student)       # False (not a key)\n",
        "print(\"Amit\" in student.values())  # True (checks values)\n",
        "🔍 How it works: Uses hashing to check if the key exists (O(1) average time complexity).\n",
        "\n",
        "3. Quick Comparison Table\n",
        "Data Structure\tWhat \"in\" Checks\tSpeed\n",
        "List\tValue in elements\tO(n) – slower for large lists\n",
        "Dictionary\tKey in dictionary\tO(1) average – very fast\n",
        "\n",
        "💡 In short:\n",
        "\n",
        "For lists, \"in\" searches values by scanning through all items.\n",
        "\n",
        "For dictionaries, \"in\" checks keys using hashing for quick lookups.\n",
        "\n"
      ],
      "metadata": {
        "id": "Quzc2nxnvqfu"
      }
    },
    {
      "cell_type": "markdown",
      "source": [
        "15.CAN YOU MODIFY THE ELEMENTS OF A TUPLE? EXPLAIN WHY OR WHY NOT."
      ],
      "metadata": {
        "id": "M7RVVV4svx-H"
      }
    },
    {
      "cell_type": "markdown",
      "source": [
        "No — you cannot modify the elements of a tuple in Python because tuples are immutable.\n",
        "\n",
        "1. What Immutability Means\n",
        "Once a tuple is created, its contents cannot be changed.\n",
        "\n",
        "You cannot:\n",
        "\n",
        "Add new elements\n",
        "\n",
        "Remove elements\n",
        "\n",
        "Change existing elements\n",
        "\n",
        "Example:\n",
        "\n",
        "my_tuple = (1, 2, 3)\n",
        "# my_tuple[0] = 10  # ❌ Error: 'tuple' object does not support item assignment\n",
        "2. Why Tuples Are Immutable\n",
        "Data Integrity\n",
        "\n",
        "Used for data that should remain constant (e.g., coordinates, configuration settings).\n",
        "\n",
        "Hashability\n",
        "\n",
        "Because they are immutable, tuples can be dictionary keys or stored in sets.\n",
        "\n",
        "Performance\n",
        "\n",
        "Tuples are smaller and slightly faster than lists because Python doesn’t need to handle modifications.\n",
        "\n",
        "3. Important Exception\n",
        "While the tuple itself is immutable, it can contain mutable objects (like lists or dictionaries) that can be modified.\n",
        "\n",
        "Example:\n",
        "\n",
        "my_tuple = (1, [2, 3], 4)\n",
        "my_tuple[1].append(5)  # ✅ Works because the list inside the tuple is mutable\n",
        "print(my_tuple)  # (1, [2, 3, 5], 4)\n",
        "Here, the reference to the list is fixed, but the contents of that list can change.\n",
        "\n",
        "✅ In short:\n",
        "\n",
        "You can’t change the tuple’s structure or replace its elements.\n",
        "\n",
        "You can change mutable objects stored inside it.\n",
        "\n",
        "\n",
        "\n",
        "\n",
        "\n",
        "\n",
        "\n",
        "\n",
        "\n",
        "\n",
        "\n",
        "Ask ChatGPT\n"
      ],
      "metadata": {
        "id": "7TjJFYrMwUVg"
      }
    },
    {
      "cell_type": "markdown",
      "source": [
        "16.WHAT IS A NESTED DICTIONARY,AND GIVE AN EXAMPLE OF ITS USE CASE?"
      ],
      "metadata": {
        "id": "Myyl3A7iwgue"
      }
    },
    {
      "cell_type": "markdown",
      "source": [
        "A nested dictionary in Python is a dictionary inside another dictionary — meaning a key’s value is itself another dictionary.\n",
        "\n",
        "1. Structure\n",
        "It looks like this:\n",
        "\n",
        "outer_dict = {\n",
        "    key1: {nested_key1: value1, nested_key2: value2},\n",
        "    key2: {nested_key3: value3, nested_key4: value4}\n",
        "}\n",
        "2. Example\n",
        "Student Database\n",
        "\n",
        "students = {\n",
        "    \"Amit\": {\"age\": 18, \"grade\": \"A\", \"subjects\": [\"Math\", \"Physics\"]},\n",
        "    \"Sara\": {\"age\": 19, \"grade\": \"B\", \"subjects\": [\"Biology\", \"Chemistry\"]}\n",
        "}\n",
        "\n",
        "# Accessing nested data:\n",
        "print(students[\"Amit\"][\"grade\"])     # A\n",
        "print(students[\"Sara\"][\"subjects\"])  # ['Biology', 'Chemistry']\n",
        "3. Use Cases\n",
        "Storing hierarchical data:\n",
        "\n",
        "Student records (per student → details)\n",
        "\n",
        "Company employee database (per department → per employee)\n",
        "\n",
        "E-commerce product categories (category → product → details)\n",
        "\n",
        "JSON-like structures:\n",
        "\n",
        "APIs often return JSON data, which maps directly to nested dictionaries in Python.\n",
        "\n",
        "4. Benefits\n",
        "Organizes related data together.\n",
        "\n",
        "Makes retrieval easier with meaningful keys.\n",
        "\n",
        "Avoids long lists or parallel arrays for related data.\n",
        "\n",
        "💡 In short:\n",
        "A nested dictionary is perfect when you need to store structured, hierarchical data where each key maps to another set of key–value pairs."
      ],
      "metadata": {
        "id": "Kb7odV_mxDwO"
      }
    },
    {
      "cell_type": "markdown",
      "source": [
        "17.DESCRIBE THE TIME COMPLEXITY OF ACCESSING ELEMENTS IN A DICTIONARY."
      ],
      "metadata": {
        "id": "A1LxdXplxOde"
      }
    },
    {
      "cell_type": "markdown",
      "source": [
        "Accessing elements in a Python dictionary is very fast because dictionaries are implemented using a hash table.\n",
        "\n",
        "1. Average Case\n",
        "Time Complexity: O(1) (constant time)\n",
        "\n",
        "This applies to:\n",
        "\n",
        "Accessing: value = my_dict[key]\n",
        "\n",
        "Inserting: my_dict[key] = value\n",
        "\n",
        "Deleting: del my_dict[key]\n",
        "\n",
        "Reason: The key is hashed to find its location directly in memory without scanning all elements.\n",
        "\n",
        "Example:\n",
        "\n",
        "students = {\"Amit\": 18, \"Sara\": 19}\n",
        "print(students[\"Sara\"])  # O(1) lookup\n",
        "2. Worst Case\n",
        "Time Complexity: O(n)\n",
        "\n",
        "Rare, but happens when many keys have the same hash value (hash collision).\n",
        "\n",
        "In that case, Python may have to check multiple items in the same \"bucket\".\n",
        "\n",
        "Python’s hash table design minimizes this, so in practice O(1) is what you get.\n",
        "\n",
        "3. Why It’s Fast\n",
        "Hash function turns the key into a number.\n",
        "\n",
        "That number points directly to where the value is stored in memory.\n",
        "\n",
        "No need to search sequentially like in a list (which is O(n)).\n",
        "\n",
        "✅ Summary Table\n",
        "\n",
        "Operation\tAverage Case\tWorst Case\n",
        "Lookup\tO(1)\tO(n)\n",
        "Insertion\tO(1)\tO(n)\n",
        "Deletion\tO(1)\tO(n)\n",
        "\n",
        "\n",
        "\n",
        "\n",
        "\n",
        "\n",
        "\n",
        "\n",
        "\n",
        "\n",
        "\n",
        "Ask ChatGPT\n"
      ],
      "metadata": {
        "id": "4HeZvuXaxvge"
      }
    },
    {
      "cell_type": "markdown",
      "source": [
        "18.IN WHAT SITUATIONS ARE LISTS PREFERRED OVER DICTIONARIES?"
      ],
      "metadata": {
        "id": "cYXzXMosx49V"
      }
    },
    {
      "cell_type": "markdown",
      "source": [
        "Lists are preferred over dictionaries when order, duplicates, and simple indexed access are more important than key-based lookups.\n",
        "\n",
        "Situations Where Lists Are Better\n",
        "1. When Order Matters\n",
        "Lists preserve the order of elements exactly as added.\n",
        "\n",
        "Dictionaries in Python 3.7+ also maintain insertion order, but lists are still the natural choice for ordered sequences.\n",
        "\n",
        "tasks = [\"wake up\", \"brush teeth\", \"have breakfast\"]\n",
        "2. When You Need Duplicates\n",
        "Lists can store duplicate values without any restriction.\n",
        "\n",
        "Dictionaries require unique keys.\n",
        "\n",
        "votes = [\"A\", \"B\", \"A\", \"C\", \"A\"]  # ✅ allowed in lists\n",
        "3. When You Access by Position (Index)\n",
        "Lists allow fast index-based access using list[index].\n",
        "\n",
        "Dictionaries require meaningful keys, so they’re not ideal if you only need positional access.\n",
        "\n",
        "fruits = [\"apple\", \"banana\", \"cherry\"]\n",
        "print(fruits[1])  # banana\n",
        "4. When You Have Simple, Sequential Data\n",
        "Lists are better for storing one-dimensional, sequential data that doesn’t require labeling.\n",
        "\n",
        "Example: Storing a list of scores, temperatures, or names.\n",
        "\n",
        "5. When Memory Efficiency Matters for Simple Data\n",
        "For small datasets with just values (no key–value pairs), lists take less memory than dictionaries.\n",
        "\n",
        "✅ In short:\n",
        "Use a list when:\n",
        "\n",
        "You care about order.\n",
        "\n",
        "You need duplicates.\n",
        "\n",
        "You want position-based access.\n",
        "\n",
        "You have simple sequences without named relationships.\n",
        "\n"
      ],
      "metadata": {
        "id": "pVBwIOxLyXG1"
      }
    },
    {
      "cell_type": "markdown",
      "source": [
        "19.WHY ARE DICTIONARIES CONSIDERED UNORDERED, AND HOW DOES THAT AFFECT DATA RETRIEVAL?"
      ],
      "metadata": {
        "id": "cwaJma6Syjgt"
      }
    },
    {
      "cell_type": "markdown",
      "source": [
        "Dictionaries are considered unordered because historically (before Python 3.7), they did not guarantee that items would be stored or retrieved in the same order they were inserted.\n",
        "\n",
        "1. Why They Were Unordered\n",
        "Dictionaries are implemented as hash tables.\n",
        "\n",
        "The position of each key–value pair in memory is determined by the hash value of the key, not the order you added them.\n",
        "\n",
        "This made them very fast (O(1) lookup) but without predictable ordering.\n",
        "\n",
        "Example in older Python:\n",
        "\n",
        "# Python < 3.7\n",
        "data = {\"a\": 1, \"b\": 2, \"c\": 3}\n",
        "print(data)  # Could print in any order: {'b': 2, 'a': 1, 'c': 3}\n",
        "2. Modern Python Behavior\n",
        "From Python 3.7 onwards, dictionaries preserve insertion order as an implementation detail (and officially guaranteed in Python 3.7+).\n",
        "\n",
        "However, order preservation is not the same as being an ordered data type:\n",
        "\n",
        "The order is incidental, not the primary function.\n",
        "\n",
        "Rearranging items can still happen in certain internal operations.\n",
        "\n",
        "3. Effect on Data Retrieval\n",
        "Retrieval by key is O(1) regardless of insertion order.\n",
        "\n",
        "You cannot rely on dictionary keys being in sorted order unless you explicitly sort them:\n",
        "\n",
        "for key in sorted(data):\n",
        "    print(key, data[key])\n",
        "If you need guaranteed order based on sorting or a fixed sequence, use:\n",
        "\n",
        "collections.OrderedDict (for older Python versions)\n",
        "\n",
        "Lists or tuples (for positional order)\n",
        "\n",
        "✅ Summary\n",
        "\n",
        "Unordered = position in memory depends on hash function, not insertion.\n",
        "\n",
        "Effect = fast lookups, but order is not inherently meaningful unless you’re on Python 3.7+ and use insertion order intentionally.\n",
        "\n",
        "\n",
        "\n",
        "\n",
        "\n",
        "\n",
        "\n",
        "\n",
        "\n",
        "\n",
        "\n",
        "Ask ChatGPT\n"
      ],
      "metadata": {
        "id": "LlfoNKYqzWHt"
      }
    },
    {
      "cell_type": "markdown",
      "source": [
        "20.EXPLAIN THE DIFFERENCE BETWEEN A LIST AND A DICTIONARY IN TERMS OF DATA RETRIEVAL."
      ],
      "metadata": {
        "id": "Sx95uBWsznBl"
      }
    },
    {
      "cell_type": "markdown",
      "source": [
        "Here’s a clear comparison of how data retrieval works in lists vs dictionaries in Python:\n",
        "\n",
        "1. Retrieval in a List\n",
        "Access method: By index (position number).\n",
        "\n",
        "Time complexity: O(1) if you know the index.\n",
        "\n",
        "Limitation: If you need to find an item by value, Python must search through the list — O(n) time.\n",
        "\n",
        "fruits = [\"apple\", \"banana\", \"cherry\"]\n",
        "\n",
        "# Retrieval by index (fast)\n",
        "print(fruits[1])   # \"banana\"\n",
        "\n",
        "# Retrieval by value (slow for large lists)\n",
        "print(\"banana\" in fruits)  # O(n)\n",
        "2. Retrieval in a Dictionary\n",
        "Access method: By key (a unique identifier).\n",
        "\n",
        "Time complexity: O(1) on average, thanks to hashing.\n",
        "\n",
        "Advantage: No need to know the position; just use the key.\n",
        "\n",
        "fruit_colors = {\"apple\": \"red\", \"banana\": \"yellow\", \"cherry\": \"red\"}\n",
        "\n",
        "# Retrieval by key (very fast)\n",
        "print(fruit_colors[\"banana\"])  # \"yellow\"\n",
        "\n",
        "# No need to loop through — direct access\n",
        "3. Key Differences\n",
        "Feature\tList Retrieval\tDictionary Retrieval\n",
        "Access Method\tBy position (index)\tBy key\n",
        "Speed (Known Index/Key)\tO(1)\tO(1)\n",
        "Find by Value\tO(n) (must scan each item)\tO(1) if you have the key\n",
        "Duplicates\tAllows duplicates\tKeys must be unique\n",
        "Use Case\tOrdered collections, sequences\tFast lookups with meaningful labels\n",
        "\n",
        "✅ Summary:\n",
        "\n",
        "Use a list when order and sequential access are important.\n",
        "\n",
        "Use a dictionary when you need fast, label-based lookups instead of position-based retrieval.\n",
        "\n",
        "\n",
        "\n",
        "\n",
        "\n",
        "\n",
        "\n",
        "\n",
        "\n",
        "\n",
        "\n",
        "Ask ChatGPT\n"
      ],
      "metadata": {
        "id": "8Thnt8f00L68"
      }
    },
    {
      "cell_type": "markdown",
      "source": [
        "# PRACTICAL QUESTIONS"
      ],
      "metadata": {
        "id": "rhE_7E9_0WrU"
      }
    },
    {
      "cell_type": "markdown",
      "source": [
        "1.WRITE A CODE TO CREATE A STRING WITH YOUR NAME AND PRINT IT."
      ],
      "metadata": {
        "id": "HZgp8AXH0e-0"
      }
    },
    {
      "cell_type": "markdown",
      "source": [
        "Here’s a simple Python code to create a string with your name and print it:\n",
        "\n"
      ],
      "metadata": {
        "id": "zia2vKe21Gi0"
      }
    },
    {
      "cell_type": "code",
      "source": [
        "# Create a string with your name\n",
        "name = \"Rakshita Ramesh Thakre\"\n",
        "\n",
        "# Print the string\n",
        "print(name)"
      ],
      "metadata": {
        "colab": {
          "base_uri": "https://localhost:8080/"
        },
        "id": "4Z1I_W8O1OzF",
        "outputId": "3044c33a-a483-4d8a-9398-63fb4fba0501"
      },
      "execution_count": null,
      "outputs": [
        {
          "output_type": "stream",
          "name": "stdout",
          "text": [
            "Rakshita Ramesh Thakre\n"
          ]
        }
      ]
    },
    {
      "cell_type": "markdown",
      "source": [
        "2.WRITE A CODE TO FIND THE LENGTH OF THE STRING \"Hello World\"."
      ],
      "metadata": {
        "id": "HWqDuyC-1el2"
      }
    },
    {
      "cell_type": "markdown",
      "source": [
        "Here’s the Python code to find the length of the string \"Hello World\":"
      ],
      "metadata": {
        "id": "bmFOXIK71908"
      }
    },
    {
      "cell_type": "code",
      "source": [
        "# Create the string\n",
        "text = \"Hello World\"\n",
        "\n",
        "# Find the length\n",
        "length = len(text)\n",
        "\n",
        "# Print the length\n",
        "print(length)"
      ],
      "metadata": {
        "colab": {
          "base_uri": "https://localhost:8080/"
        },
        "id": "j-8YB3RW2Cwc",
        "outputId": "273fb1e8-7249-4d3a-e159-121dc1837fd5"
      },
      "execution_count": null,
      "outputs": [
        {
          "output_type": "stream",
          "name": "stdout",
          "text": [
            "11\n"
          ]
        }
      ]
    },
    {
      "cell_type": "markdown",
      "source": [
        "This works because len() counts all characters, including spaces."
      ],
      "metadata": {
        "id": "sucAaK-12RMM"
      }
    },
    {
      "cell_type": "markdown",
      "source": [
        "3.WRIE A CODE TO SLICE THE FIRST 3 CHARACTERS FROM THE STRING \"Python Programming\"."
      ],
      "metadata": {
        "id": "-T9ni79Y2TCM"
      }
    },
    {
      "cell_type": "markdown",
      "source": [
        "Here’s the Python code to slice the first 3 characters from \"Python Programming\":"
      ],
      "metadata": {
        "id": "n55W6JJK29GV"
      }
    },
    {
      "cell_type": "code",
      "source": [
        "# Create the string\n",
        "text = \"Python Programming\"\n",
        "\n",
        "# Slice the first 3 characters\n",
        "first_three = text[:3]\n",
        "\n",
        "# Print the result\n",
        "print(first_three)"
      ],
      "metadata": {
        "colab": {
          "base_uri": "https://localhost:8080/"
        },
        "id": "YUXFGubb2-Yb",
        "outputId": "530f3b7a-427b-4dd4-c5a0-9d8f559b7717"
      },
      "execution_count": null,
      "outputs": [
        {
          "output_type": "stream",
          "name": "stdout",
          "text": [
            "Pyt\n"
          ]
        }
      ]
    },
    {
      "cell_type": "markdown",
      "source": [
        "This works because text[:3] means “start at index 0 and go up to (but not including) index 3.”"
      ],
      "metadata": {
        "id": "f4u7t0Mg3Jfd"
      }
    },
    {
      "cell_type": "markdown",
      "source": [
        "4.WRITE A CODE TO CONVERT THE STRING \"hello\" TO UPPERCASE."
      ],
      "metadata": {
        "id": "LrokPHU93K8c"
      }
    },
    {
      "cell_type": "markdown",
      "source": [
        "Here’s the Python code to convert \"hello\" to uppercase:\n"
      ],
      "metadata": {
        "id": "ZD_e7WsX4FvU"
      }
    },
    {
      "cell_type": "code",
      "source": [
        "# Create the string\n",
        "text = \"hello\"\n",
        "\n",
        "# Convert to uppercase\n",
        "uppercase_text = text.upper()\n",
        "\n",
        "# Print the result\n",
        "print(uppercase_text)"
      ],
      "metadata": {
        "colab": {
          "base_uri": "https://localhost:8080/"
        },
        "id": "eXKnBi5S4I40",
        "outputId": "e853a85a-0067-4d8a-c105-2ff8e1d3da00"
      },
      "execution_count": null,
      "outputs": [
        {
          "output_type": "stream",
          "name": "stdout",
          "text": [
            "HELLO\n"
          ]
        }
      ]
    },
    {
      "cell_type": "markdown",
      "source": [
        "This works because .upper() converts every letter in the string to its uppercase version."
      ],
      "metadata": {
        "id": "FeIT2EPy4TkT"
      }
    },
    {
      "cell_type": "markdown",
      "source": [
        "5.WRITE A CODE TO REPLACE THE WORD \"apple\" WITH \"orange\" IN THE STRING \"I like apple\"."
      ],
      "metadata": {
        "id": "F3eMfp9L4V57"
      }
    },
    {
      "cell_type": "markdown",
      "source": [
        "Here’s the Python code to replace \"apple\" with \"orange\" in \"I like apple\":"
      ],
      "metadata": {
        "id": "zCBTI_wS6NVa"
      }
    },
    {
      "cell_type": "code",
      "source": [
        "# Create the string\n",
        "text = \"I like apple\"\n",
        "\n",
        "# Replace \"apple\" with \"orange\"\n",
        "new_text = text.replace(\"apple\", \"orange\")\n",
        "\n",
        "# Print the result\n",
        "print(new_text)"
      ],
      "metadata": {
        "colab": {
          "base_uri": "https://localhost:8080/"
        },
        "id": "QnnmRxCy6O_a",
        "outputId": "cbb2f3b3-e8b4-443c-8605-0c676c65641a"
      },
      "execution_count": null,
      "outputs": [
        {
          "output_type": "stream",
          "name": "stdout",
          "text": [
            "I like orange\n"
          ]
        }
      ]
    },
    {
      "cell_type": "markdown",
      "source": [
        "This works because .replace(old, new) creates a new string with the replacements done — it doesn’t change the original string since strings are immutable in Python."
      ],
      "metadata": {
        "id": "tW27J6tq6Zvq"
      }
    },
    {
      "cell_type": "markdown",
      "source": [
        "6.WRITE A CODE TO CREATE A LIST WITH NUMBERS 1 TO 5 AND PRINT IT."
      ],
      "metadata": {
        "id": "MN0n1Rej6r6a"
      }
    },
    {
      "cell_type": "markdown",
      "source": [
        "Here’s the Python code to create a list with numbers 1 to 5 and print it:"
      ],
      "metadata": {
        "id": "FqgFM__E7fjx"
      }
    },
    {
      "cell_type": "code",
      "source": [
        "# Create a list with numbers 1 to 5\n",
        "numbers = [1, 2, 3, 4, 5]\n",
        "\n",
        "# Print the list\n",
        "print(numbers)"
      ],
      "metadata": {
        "colab": {
          "base_uri": "https://localhost:8080/"
        },
        "id": "9n8UUuVy7hhy",
        "outputId": "c37b493c-a0be-4e4a-8c60-1c53d3c29336"
      },
      "execution_count": null,
      "outputs": [
        {
          "output_type": "stream",
          "name": "stdout",
          "text": [
            "[1, 2, 3, 4, 5]\n"
          ]
        }
      ]
    },
    {
      "cell_type": "markdown",
      "source": [
        "7.WRITE A CODE TO APPEND THE NUMBER 10 TO THE LIST [1,2,3,4]."
      ],
      "metadata": {
        "id": "FFutnI147n-x"
      }
    },
    {
      "cell_type": "markdown",
      "source": [
        "Here’s the Python code to append 10 to the list [1, 2, 3, 4]:"
      ],
      "metadata": {
        "id": "qn49ctS_8rzh"
      }
    },
    {
      "cell_type": "code",
      "source": [
        "# Create the list\n",
        "numbers = [1, 2, 3, 4]\n",
        "\n",
        "# Append the number 10\n",
        "numbers.append(10)\n",
        "\n",
        "# Print the updated list\n",
        "print(numbers)"
      ],
      "metadata": {
        "colab": {
          "base_uri": "https://localhost:8080/"
        },
        "id": "4049I8ed8tzB",
        "outputId": "f931b48d-47ef-4163-dc4a-e08a10dd28ec"
      },
      "execution_count": null,
      "outputs": [
        {
          "output_type": "stream",
          "name": "stdout",
          "text": [
            "[1, 2, 3, 4, 10]\n"
          ]
        }
      ]
    },
    {
      "cell_type": "markdown",
      "source": [
        "The .append() method adds the item at the end of the list."
      ],
      "metadata": {
        "id": "7USF34oh833M"
      }
    },
    {
      "cell_type": "markdown",
      "source": [
        "8.WRITE A CODE TO REMOVE THE NUMBER 3 FROM THE LIST [1,2,3,4,5]."
      ],
      "metadata": {
        "id": "GREWHyCQ85fK"
      }
    },
    {
      "cell_type": "markdown",
      "source": [
        "Here’s the Python code to remove the number 3 from the list [1, 2, 3, 4, 5]:"
      ],
      "metadata": {
        "id": "37lywk1A9gII"
      }
    },
    {
      "cell_type": "code",
      "source": [
        "# Create the list\n",
        "numbers = [1, 2, 3, 4, 5]\n",
        "\n",
        "# Remove the number 3\n",
        "numbers.remove(3)\n",
        "\n",
        "# Print the updated list\n",
        "print(numbers)"
      ],
      "metadata": {
        "colab": {
          "base_uri": "https://localhost:8080/"
        },
        "id": "ZnC7w9Wu9hPh",
        "outputId": "1e9c6db5-a436-4824-9e9a-88c2ab09155e"
      },
      "execution_count": null,
      "outputs": [
        {
          "output_type": "stream",
          "name": "stdout",
          "text": [
            "[1, 2, 4, 5]\n"
          ]
        }
      ]
    },
    {
      "cell_type": "markdown",
      "source": [
        "The .remove() method deletes the first occurrence of the specified value from the list."
      ],
      "metadata": {
        "id": "DsO95ZfP9rrB"
      }
    },
    {
      "cell_type": "markdown",
      "source": [
        "9.WRITE A CODE TO ACCESS THE SECOND ELEMENT IN THE LIST ['a','b','c','d']."
      ],
      "metadata": {
        "id": "uw56MfjL9uXb"
      }
    },
    {
      "cell_type": "markdown",
      "source": [
        "Here’s the Python code to access the second element in the list ['a','b','c','d']:"
      ],
      "metadata": {
        "id": "AtUk2bv6_f57"
      }
    },
    {
      "cell_type": "code",
      "source": [
        "# Create the list\n",
        "letters = ['a', 'b', 'c', 'd']\n",
        "\n",
        "# Access the second element (index 1)\n",
        "second_element = letters[1]\n",
        "\n",
        "# Print the element\n",
        "print(second_element)"
      ],
      "metadata": {
        "colab": {
          "base_uri": "https://localhost:8080/"
        },
        "id": "cGoEc_ZT_hmu",
        "outputId": "395841f7-1d46-4bf1-db85-2006b521e081"
      },
      "execution_count": null,
      "outputs": [
        {
          "output_type": "stream",
          "name": "stdout",
          "text": [
            "b\n"
          ]
        }
      ]
    },
    {
      "cell_type": "markdown",
      "source": [
        "In Python, indexing starts at 0, so index 1 refers to the second element."
      ],
      "metadata": {
        "id": "UeHW_svb_pKe"
      }
    },
    {
      "cell_type": "markdown",
      "source": [
        "10.WRITE A CODE TO REVERSE THE LIST [10,20,30,40,50]."
      ],
      "metadata": {
        "id": "V1gS26XS_u4V"
      }
    },
    {
      "cell_type": "markdown",
      "source": [
        "Here’s the Python code to reverse the list [10, 20, 30, 40, 50]:"
      ],
      "metadata": {
        "id": "LmH05ap0ASn2"
      }
    },
    {
      "cell_type": "code",
      "source": [
        "# Create the list\n",
        "numbers = [10, 20, 30, 40, 50]\n",
        "\n",
        "# Reverse the list\n",
        "numbers.reverse()\n",
        "\n",
        "# Print the reversed list\n",
        "print(numbers)"
      ],
      "metadata": {
        "colab": {
          "base_uri": "https://localhost:8080/"
        },
        "id": "_927QwbIAUMv",
        "outputId": "24f23a75-df1d-4257-b1ee-c85869e8fbbd"
      },
      "execution_count": null,
      "outputs": [
        {
          "output_type": "stream",
          "name": "stdout",
          "text": [
            "[50, 40, 30, 20, 10]\n"
          ]
        }
      ]
    },
    {
      "cell_type": "markdown",
      "source": [
        "This uses the .reverse() method, which reverses the list in place.\n"
      ],
      "metadata": {
        "id": "KjG4umVsAfcK"
      }
    },
    {
      "cell_type": "markdown",
      "source": [
        "11.WRITE A CODE TO CREATE A TUPLE WITH THE ELEMENTS 100,200,300 AND PRINT IT."
      ],
      "metadata": {
        "id": "ty5-dyA7AhIa"
      }
    },
    {
      "cell_type": "markdown",
      "source": [
        "Here’s the Python code to create a tuple with the elements 100, 200, 300 and print it:\n"
      ],
      "metadata": {
        "id": "xuGOityaBAR_"
      }
    },
    {
      "cell_type": "code",
      "source": [
        "# Create the tuple\n",
        "numbers = (100, 200, 300)\n",
        "\n",
        "# Print the tuple\n",
        "print(numbers)"
      ],
      "metadata": {
        "colab": {
          "base_uri": "https://localhost:8080/"
        },
        "id": "2lo5m6N0A_cA",
        "outputId": "076ee3ea-5b9b-4b85-b1a2-314dc94ab612"
      },
      "execution_count": null,
      "outputs": [
        {
          "output_type": "stream",
          "name": "stdout",
          "text": [
            "(100, 200, 300)\n"
          ]
        }
      ]
    },
    {
      "cell_type": "markdown",
      "source": [
        "In Python, tuples are created by placing elements inside parentheses ()."
      ],
      "metadata": {
        "id": "2BHM-DhFBQF8"
      }
    },
    {
      "cell_type": "markdown",
      "source": [
        "12.WRITE A CODE TO ACCESS THE SECOND-TO-LAST ELEMENT OF THE TUPLE ('red','green','blue','yellow')."
      ],
      "metadata": {
        "id": "ertxkTCiBRVy"
      }
    },
    {
      "cell_type": "markdown",
      "source": [
        "Here’s the Python code to access the second-to-last element of the tuple ('red','green','blue','yellow'):\n"
      ],
      "metadata": {
        "id": "dZwOUIyzCV66"
      }
    },
    {
      "cell_type": "code",
      "source": [
        "# Create the tuple\n",
        "colors = ('red', 'green', 'blue', 'yellow')\n",
        "\n",
        "# Access the second-to-last element\n",
        "second_to_last = colors[-2]\n",
        "\n",
        "# Print the element\n",
        "print(second_to_last)"
      ],
      "metadata": {
        "colab": {
          "base_uri": "https://localhost:8080/"
        },
        "id": "Xtpmu92TCZk5",
        "outputId": "e40decc4-f521-43bc-cc39-16427fd7e08d"
      },
      "execution_count": null,
      "outputs": [
        {
          "output_type": "stream",
          "name": "stdout",
          "text": [
            "blue\n"
          ]
        }
      ]
    },
    {
      "cell_type": "markdown",
      "source": [
        "The index -2 means “start from the end and move two places to the left.”"
      ],
      "metadata": {
        "id": "yFpt2OhZCi1G"
      }
    },
    {
      "cell_type": "markdown",
      "source": [
        "13.WRITE A CODE TO FIND THE MINIMUM NUMBER IN THE TUPLE (10,20,5,15)."
      ],
      "metadata": {
        "id": "dHz9es_-ClS8"
      }
    },
    {
      "cell_type": "markdown",
      "source": [
        "Here’s the Python code to find the minimum number in the tuple (10, 20, 5, 15):"
      ],
      "metadata": {
        "id": "eI7qWrQ-os-J"
      }
    },
    {
      "cell_type": "code",
      "source": [
        "# Create the tuple\n",
        "numbers = (10, 20, 5, 15)\n",
        "\n",
        "# Find the minimum number\n",
        "minimum_value = min(numbers)\n",
        "\n",
        "# Print the result\n",
        "print(minimum_value)\n"
      ],
      "metadata": {
        "colab": {
          "base_uri": "https://localhost:8080/"
        },
        "id": "FaMivC4you8w",
        "outputId": "4edc657f-c4c1-4744-a2a5-9cc16d381397"
      },
      "execution_count": 1,
      "outputs": [
        {
          "output_type": "stream",
          "name": "stdout",
          "text": [
            "5\n"
          ]
        }
      ]
    },
    {
      "cell_type": "markdown",
      "source": [
        "The built-in min() function works for tuples, lists, and other iterable types."
      ],
      "metadata": {
        "id": "S6b2Yq2Bo6Hw"
      }
    },
    {
      "cell_type": "markdown",
      "source": [
        "14.WRITE A CODE TO FIND THE INDEX OF THE ELEMENT \"cat\" IN THE TUPLE ('dog','cat','rabbit')."
      ],
      "metadata": {
        "id": "DI-Hr-ETo94J"
      }
    },
    {
      "cell_type": "markdown",
      "source": [
        "Here’s the Python code to find the index of \"cat\" in the tuple ('dog', 'cat', 'rabbit'):"
      ],
      "metadata": {
        "id": "hD0yA315pt0a"
      }
    },
    {
      "cell_type": "code",
      "source": [
        "# Create the tuple\n",
        "animals = ('dog', 'cat', 'rabbit')\n",
        "\n",
        "# Find the index of \"cat\"\n",
        "cat_index = animals.index('cat')\n",
        "\n",
        "# Print the result\n",
        "print(cat_index)"
      ],
      "metadata": {
        "colab": {
          "base_uri": "https://localhost:8080/"
        },
        "id": "XbWyvSPMpvwg",
        "outputId": "be3d429d-68c0-44fd-e646-3da603520e5a"
      },
      "execution_count": 2,
      "outputs": [
        {
          "output_type": "stream",
          "name": "stdout",
          "text": [
            "1\n"
          ]
        }
      ]
    },
    {
      "cell_type": "markdown",
      "source": [
        "Since Python uses zero-based indexing, \"cat\" is at index 1."
      ],
      "metadata": {
        "id": "VjHqZclmp4lw"
      }
    },
    {
      "cell_type": "markdown",
      "source": [
        "15.WRITE A CODE TO CREATE A TUPLE CONTAINING THREE DIFFERENT FRUITS AND CHECK IF \"kiwi\" IS IN IT."
      ],
      "metadata": {
        "id": "pkvwzBZSp6N4"
      }
    },
    {
      "cell_type": "markdown",
      "source": [
        "Here’s the Python code to create a tuple with three fruits and check if \"kiwi\" is in it:"
      ],
      "metadata": {
        "id": "BNIUivEDrBsR"
      }
    },
    {
      "cell_type": "code",
      "source": [
        "# Create the tuple\n",
        "fruits = ('apple', 'banana', 'orange')\n",
        "\n",
        "# Check if \"kiwi\" is in the tuple\n",
        "if 'kiwi' in fruits:\n",
        "    print(\"Kiwi is in the tuple.\")\n",
        "else:\n",
        "    print(\"Kiwi is not in the tuple.\")"
      ],
      "metadata": {
        "colab": {
          "base_uri": "https://localhost:8080/"
        },
        "id": "Zc6xc1X4rDR3",
        "outputId": "be6bf9a0-d4c7-466e-e4eb-c7aa8e654850"
      },
      "execution_count": 3,
      "outputs": [
        {
          "output_type": "stream",
          "name": "stdout",
          "text": [
            "Kiwi is not in the tuple.\n"
          ]
        }
      ]
    },
    {
      "cell_type": "markdown",
      "source": [
        "The in keyword checks for membership in tuples, lists, sets, and strings.\n",
        "\n",
        "\n",
        "\n",
        "\n",
        "\n",
        "\n",
        "\n",
        "\n",
        "\n",
        "Ask ChatGPT\n"
      ],
      "metadata": {
        "id": "hxS4M7psrUtg"
      }
    },
    {
      "cell_type": "markdown",
      "source": [
        "16.WRITE A CODE TO CREATE A SET WITH THE ELEMENTS 'a','b','c' AND PRINT IT."
      ],
      "metadata": {
        "id": "bVB7nPkarYOf"
      }
    },
    {
      "cell_type": "markdown",
      "source": [
        "Here’s the Python code to create a set with the elements 'a', 'b', and 'c' and print it:"
      ],
      "metadata": {
        "id": "m9coqB1xsdN4"
      }
    },
    {
      "cell_type": "code",
      "source": [
        "# Create the set\n",
        "letters = {'a', 'b', 'c'}\n",
        "\n",
        "# Print the set\n",
        "print(letters)"
      ],
      "metadata": {
        "colab": {
          "base_uri": "https://localhost:8080/"
        },
        "id": "uSfjhtnJsiOI",
        "outputId": "2d4a60e1-443a-4f99-ba58-1bfb2f046ef4"
      },
      "execution_count": 4,
      "outputs": [
        {
          "output_type": "stream",
          "name": "stdout",
          "text": [
            "{'c', 'b', 'a'}\n"
          ]
        }
      ]
    },
    {
      "cell_type": "markdown",
      "source": [
        "Since sets are unordered, the elements may appear in a different order when printed."
      ],
      "metadata": {
        "id": "GyEbnJVcsnDn"
      }
    },
    {
      "cell_type": "markdown",
      "source": [
        "17.WRITE A CODE TO CLEAR ALL ELEMENTS FROM THE SET {1,2,3,4,5}."
      ],
      "metadata": {
        "id": "7Bq1qkURsoi3"
      }
    },
    {
      "cell_type": "markdown",
      "source": [
        "Here’s the Python code to clear all elements from the set {1, 2, 3, 4, 5}:"
      ],
      "metadata": {
        "id": "_Mlq5LfStEtg"
      }
    },
    {
      "cell_type": "code",
      "source": [
        "# Create the set\n",
        "numbers = {1, 2, 3, 4, 5}\n",
        "\n",
        "# Clear all elements\n",
        "numbers.clear()\n",
        "\n",
        "# Print the set\n",
        "print(numbers)"
      ],
      "metadata": {
        "colab": {
          "base_uri": "https://localhost:8080/"
        },
        "id": "b38nFZ4AtFwn",
        "outputId": "64aa58e7-4a04-46a7-d3f6-1207b382dc3c"
      },
      "execution_count": 5,
      "outputs": [
        {
          "output_type": "stream",
          "name": "stdout",
          "text": [
            "set()\n"
          ]
        }
      ]
    },
    {
      "cell_type": "markdown",
      "source": [
        "After using .clear(), the set becomes empty.\n",
        "\n",
        "\n",
        "\n",
        "\n",
        "\n",
        "\n",
        "\n",
        "\n",
        "\n",
        "Ask ChatGPT\n"
      ],
      "metadata": {
        "id": "aWs1hA3WtRSP"
      }
    },
    {
      "cell_type": "markdown",
      "source": [
        "18.WRITE A CODE TO REMOVE THE ELEMENT 4 FROM THE SET {1,2,3,4}."
      ],
      "metadata": {
        "id": "6cbKymKXtTf3"
      }
    },
    {
      "cell_type": "markdown",
      "source": [
        "Here’s the Python code to remove the element 4 from the set {1, 2, 3, 4}:\n"
      ],
      "metadata": {
        "id": "b8prY2a-uWW4"
      }
    },
    {
      "cell_type": "code",
      "source": [
        "# Create the set\n",
        "numbers = {1, 2, 3, 4}\n",
        "\n",
        "# Remove the element 4\n",
        "numbers.remove(4)\n",
        "\n",
        "# Print the updated set\n",
        "print(numbers)"
      ],
      "metadata": {
        "colab": {
          "base_uri": "https://localhost:8080/"
        },
        "id": "GIuOYPJNuZiv",
        "outputId": "095dbbbc-6767-492c-a722-1905ad68b910"
      },
      "execution_count": 6,
      "outputs": [
        {
          "output_type": "stream",
          "name": "stdout",
          "text": [
            "{1, 2, 3}\n"
          ]
        }
      ]
    },
    {
      "cell_type": "markdown",
      "source": [
        "⚡ Note: If the element does not exist, .remove() will raise an error.\n",
        "If you want to avoid errors, you can use .discard(4) instead."
      ],
      "metadata": {
        "id": "1cUo41-2uj5v"
      }
    },
    {
      "cell_type": "markdown",
      "source": [
        "19.WRITE A CODE TO FIND THE UNION OF TWO SETS {1,2,3} AND {3,4,5}."
      ],
      "metadata": {
        "id": "NQ4cWU17uopG"
      }
    },
    {
      "cell_type": "markdown",
      "source": [
        "Here’s the Python code to find the union of {1, 2, 3} and {3, 4, 5}:\n"
      ],
      "metadata": {
        "id": "QKkfrMr8vNi-"
      }
    },
    {
      "cell_type": "code",
      "source": [
        "# Create the sets\n",
        "set1 = {1, 2, 3}\n",
        "set2 = {3, 4, 5}\n",
        "\n",
        "# Find the union\n",
        "union_set = set1.union(set2)\n",
        "# Print the result\n",
        "print(union_set)"
      ],
      "metadata": {
        "colab": {
          "base_uri": "https://localhost:8080/"
        },
        "id": "o1EQobE2vRPf",
        "outputId": "7236e585-371f-4d48-ed40-1283c642a5f9"
      },
      "execution_count": 8,
      "outputs": [
        {
          "output_type": "stream",
          "name": "stdout",
          "text": [
            "{1, 2, 3, 4, 5}\n"
          ]
        }
      ]
    },
    {
      "cell_type": "markdown",
      "source": [
        "The union combines elements from both sets, removing duplicates automatically."
      ],
      "metadata": {
        "id": "viKtv2YKvjJe"
      }
    },
    {
      "cell_type": "markdown",
      "source": [
        "20.WRITE A CODE TO FIND THE INTERSECTION OF TWO SETS {1,2,3} AND {2,3,4}."
      ],
      "metadata": {
        "id": "CNYlvgwtvlWm"
      }
    },
    {
      "cell_type": "markdown",
      "source": [
        "Here’s the Python code to find the intersection of {1, 2, 3} and {2, 3, 4}:"
      ],
      "metadata": {
        "id": "UdLczkq8wKB3"
      }
    },
    {
      "cell_type": "code",
      "source": [
        "# Create the sets\n",
        "set1 = {1, 2, 3}\n",
        "set2 = {2, 3, 4}\n",
        "\n",
        "# Find the intersection\n",
        "intersection_set = set1.intersection(set2)\n",
        "\n",
        "# Print the result\n",
        "print(intersection_set)"
      ],
      "metadata": {
        "colab": {
          "base_uri": "https://localhost:8080/"
        },
        "id": "9kiFrEfYwLF_",
        "outputId": "afa483eb-2b97-4ba7-b9bf-0047695bd730"
      },
      "execution_count": 9,
      "outputs": [
        {
          "output_type": "stream",
          "name": "stdout",
          "text": [
            "{2, 3}\n"
          ]
        }
      ]
    },
    {
      "cell_type": "markdown",
      "source": [
        "The intersection contains only elements present in both sets."
      ],
      "metadata": {
        "id": "nCGkxoPdwTB_"
      }
    },
    {
      "cell_type": "markdown",
      "source": [
        "21.WRITE A CODE TO CREATE A DICTIONARY WITH THE KEYS \"name\",\"age\", AND \"city\", AND PRINT IT."
      ],
      "metadata": {
        "id": "mMEZBrx9wUXu"
      }
    },
    {
      "cell_type": "markdown",
      "source": [
        "Here’s the Python code to create a dictionary with the keys \"name\", \"age\", and \"city\", and print it:\n"
      ],
      "metadata": {
        "id": "qypz6XhnxBVp"
      }
    },
    {
      "cell_type": "code",
      "source": [
        "# Create the dictionary\n",
        "person = {\n",
        "    \"name\": \"Alice\",\n",
        "    \"age\": 25,\n",
        "    \"city\": \"New York\"\n",
        "}\n",
        "\n",
        "# Print the dictionary\n",
        "print(person)"
      ],
      "metadata": {
        "colab": {
          "base_uri": "https://localhost:8080/"
        },
        "id": "Z4iEiM29xEVO",
        "outputId": "5ac7b924-c855-439e-de0d-c1701a469da1"
      },
      "execution_count": 10,
      "outputs": [
        {
          "output_type": "stream",
          "name": "stdout",
          "text": [
            "{'name': 'Alice', 'age': 25, 'city': 'New York'}\n"
          ]
        }
      ]
    },
    {
      "cell_type": "markdown",
      "source": [
        "Dictionaries store data as key–value pairs, making retrieval faster using keys.\n",
        "\n",
        "\n",
        "\n",
        "\n",
        "\n",
        "\n",
        "\n",
        "\n",
        "\n",
        "Ask ChatGPT\n"
      ],
      "metadata": {
        "id": "7_RcmarZxWA-"
      }
    },
    {
      "cell_type": "markdown",
      "source": [
        "22.WRITE A CODE TO ADD A NEW KEY-VALUE PAIR \"country\":\"USA\" TO THE DICTIONARY {'name':'John','age':25}."
      ],
      "metadata": {
        "id": "qjT-bHOKxYae"
      }
    },
    {
      "cell_type": "markdown",
      "source": [
        "Here’s the Python code to add a new key–value pair \"country\": \"USA\" to the dictionary:"
      ],
      "metadata": {
        "id": "vLIxmzGsyOD1"
      }
    },
    {
      "cell_type": "code",
      "source": [
        "# Create the dictionary\n",
        "person = {'name': 'John', 'age': 25}\n",
        "\n",
        "# Add new key-value pair\n",
        "person['country'] = 'USA'\n",
        "\n",
        "# Print the updated dictionary\n",
        "print(person)"
      ],
      "metadata": {
        "colab": {
          "base_uri": "https://localhost:8080/"
        },
        "id": "uTT9t1GsyPM2",
        "outputId": "6f8cc18c-f936-4ea9-e729-9253f6ab72a1"
      },
      "execution_count": 11,
      "outputs": [
        {
          "output_type": "stream",
          "name": "stdout",
          "text": [
            "{'name': 'John', 'age': 25, 'country': 'USA'}\n"
          ]
        }
      ]
    },
    {
      "cell_type": "markdown",
      "source": [
        "This method directly assigns a new key with its value into the dictionary."
      ],
      "metadata": {
        "id": "8OZ5C5I9yYB9"
      }
    },
    {
      "cell_type": "markdown",
      "source": [
        "23.WRITE A CODE TO ACCESS THE VALUE ASSOCIATED WITH THE KEY\"name\" IN THE DICTIONARY {'name':'Alice','age':30}."
      ],
      "metadata": {
        "id": "9xYoqycjyZ71"
      }
    },
    {
      "cell_type": "markdown",
      "source": [
        "Here’s the Python code to access the value associated with the key \"name\":"
      ],
      "metadata": {
        "id": "QsGlQeCzzTit"
      }
    },
    {
      "cell_type": "code",
      "source": [
        "# Create the dictionary\n",
        "person = {'name': 'Alice', 'age': 30}\n",
        "\n",
        "# Access the value of \"name\"\n",
        "name_value = person['name']\n",
        "\n",
        "# Print the value\n",
        "print(name_value)"
      ],
      "metadata": {
        "colab": {
          "base_uri": "https://localhost:8080/"
        },
        "id": "wiT6keRHzUrm",
        "outputId": "4506beb0-2675-4cac-f6fe-fbb028eb2da0"
      },
      "execution_count": 12,
      "outputs": [
        {
          "output_type": "stream",
          "name": "stdout",
          "text": [
            "Alice\n"
          ]
        }
      ]
    },
    {
      "cell_type": "markdown",
      "source": [
        "You can also safely access it using:\n",
        "person.get('name')\n",
        "which won’t throw an error if the key doesn’t exist."
      ],
      "metadata": {
        "id": "ZKFpUSYazkuF"
      }
    },
    {
      "cell_type": "markdown",
      "source": [
        "24.WRITE A CODE TO REMOVE THE KEY \"age\" FROM THE DICTIONARY {'name':'Bob','age':22,'city':'New York'}."
      ],
      "metadata": {
        "id": "etxbvaSRzoB3"
      }
    },
    {
      "cell_type": "markdown",
      "source": [
        "Here’s the Python code to remove the key \"age\" from the dictionary:"
      ],
      "metadata": {
        "id": "XG0ANMbO0q48"
      }
    },
    {
      "cell_type": "code",
      "source": [
        "# Create the dictionary\n",
        "person = {'name': 'Bob', 'age': 22, 'city': 'New York'}\n",
        "\n",
        "# Remove the key \"age\"\n",
        "person.pop('age')\n",
        "\n",
        "# Print the updated dictionary\n",
        "print(person)"
      ],
      "metadata": {
        "colab": {
          "base_uri": "https://localhost:8080/"
        },
        "id": "JIeu6H-Z0r4N",
        "outputId": "b4c8d1de-17cc-4930-b65f-96735bd9e1ef"
      },
      "execution_count": 13,
      "outputs": [
        {
          "output_type": "stream",
          "name": "stdout",
          "text": [
            "{'name': 'Bob', 'city': 'New York'}\n"
          ]
        }
      ]
    },
    {
      "cell_type": "markdown",
      "source": [
        "You can also use del person['age'] to remove a key, but pop() lets you retrieve the removed value if needed."
      ],
      "metadata": {
        "id": "kOXXSTNY01Bu"
      }
    },
    {
      "cell_type": "markdown",
      "source": [
        "25.WRITE A CODE TO CHECK IF THE KEY \"city\" EXISTS IN THE DICTIONARY{'name':'Alice','city':'Paris'}."
      ],
      "metadata": {
        "id": "318bFM7O02f1"
      }
    },
    {
      "cell_type": "markdown",
      "source": [
        "Here’s the Python code to check if the key \"city\" exists in the dictionary:"
      ],
      "metadata": {
        "id": "_y7nwtIi1jr1"
      }
    },
    {
      "cell_type": "code",
      "source": [
        "# Create the dictionary\n",
        "person = {'name': 'Alice', 'city': 'Paris'}\n",
        "\n",
        "# Check if \"city\" exists\n",
        "if 'city' in person:\n",
        "    print(\"Key 'city' exists in the dictionary.\")\n",
        "else:\n",
        "    print(\"Key 'city' does not exist in the dictionary.\")"
      ],
      "metadata": {
        "colab": {
          "base_uri": "https://localhost:8080/"
        },
        "id": "sjW16gM-1kxF",
        "outputId": "94aa94c0-d719-49e9-fd5e-c0fba5375edc"
      },
      "execution_count": 14,
      "outputs": [
        {
          "output_type": "stream",
          "name": "stdout",
          "text": [
            "Key 'city' exists in the dictionary.\n"
          ]
        }
      ]
    },
    {
      "cell_type": "markdown",
      "source": [
        "The in keyword checks for keys in a dictionary, not values."
      ],
      "metadata": {
        "id": "bjNhYxvm1td2"
      }
    },
    {
      "cell_type": "markdown",
      "source": [
        "26.WRITE A CODE TO CREATE A LIST,A TUPLE,AND A DICTIONARY,AND PRINT THEM ALL."
      ],
      "metadata": {
        "id": "V8fbwCjx1vXu"
      }
    },
    {
      "cell_type": "markdown",
      "source": [
        "Here’s the Python code to create a list, tuple, and dictionary, and print them all:"
      ],
      "metadata": {
        "id": "-bo-8Rth6QG0"
      }
    },
    {
      "cell_type": "code",
      "source": [
        "# Create a list\n",
        "my_list = [1, 2, 3, 4, 5]\n",
        "\n",
        "# Create a tuple\n",
        "my_tuple = ('apple', 'banana', 'cherry')\n",
        "\n",
        "# Create a dictionary\n",
        "my_dict = {'name': 'Alice', 'age': 25, 'city': 'New York'}\n",
        "\n",
        "# Print them all\n",
        "print(\"List:\", my_list)\n",
        "print(\"Tuple:\", my_tuple)\n",
        "print(\"Dictionary:\", my_dict)\n"
      ],
      "metadata": {
        "colab": {
          "base_uri": "https://localhost:8080/"
        },
        "id": "P4Pp9mHd6RhU",
        "outputId": "5896fba6-af2e-4ebf-f3d5-1d3a52aa0142"
      },
      "execution_count": 15,
      "outputs": [
        {
          "output_type": "stream",
          "name": "stdout",
          "text": [
            "List: [1, 2, 3, 4, 5]\n",
            "Tuple: ('apple', 'banana', 'cherry')\n",
            "Dictionary: {'name': 'Alice', 'age': 25, 'city': 'New York'}\n"
          ]
        }
      ]
    },
    {
      "cell_type": "markdown",
      "source": [
        "27.WRITE A CODE TO CREATE A LIST OF 5 RANDOM NUMBERS BETWEEN 1 AND 100,SORT IT IN ASCENDING ORDER,AND PRINT THE RESULT.(replaced)"
      ],
      "metadata": {
        "id": "u2v87YPR6yHD"
      }
    },
    {
      "cell_type": "markdown",
      "source": [
        "Here’s the Python code to create a list of 5 random numbers between 1 and 100, sort it in ascending order, and print it:"
      ],
      "metadata": {
        "id": "YVpUhQnC7hjj"
      }
    },
    {
      "cell_type": "code",
      "source": [
        "import random\n",
        "\n",
        "# Create a list of 5 random numbers between 1 and 100\n",
        "numbers = [random.randint(1, 100) for _ in range(5)]\n",
        "\n",
        "# Sort the list in ascending order\n",
        "numbers.sort()\n",
        "\n",
        "# Print the sorted list\n",
        "print(\"Sorted list:\", numbers)"
      ],
      "metadata": {
        "colab": {
          "base_uri": "https://localhost:8080/"
        },
        "id": "tERc2TDq7jCs",
        "outputId": "eaa13461-313b-4a33-dabb-5f87536885b7"
      },
      "execution_count": 16,
      "outputs": [
        {
          "output_type": "stream",
          "name": "stdout",
          "text": [
            "Sorted list: [34, 54, 56, 91, 93]\n"
          ]
        }
      ]
    },
    {
      "cell_type": "markdown",
      "source": [
        "Each run will give different numbers because they’re generated randomly."
      ],
      "metadata": {
        "id": "5WnCIjHx7zyk"
      }
    },
    {
      "cell_type": "markdown",
      "source": [
        "28.WRITE A CODE TO CREATE A LIST WITH STRINGS AND PRINT THE ELEMENT AT THE THIRD INDEX."
      ],
      "metadata": {
        "id": "lwVlXBYU71nr"
      }
    },
    {
      "cell_type": "markdown",
      "source": [
        "Here’s the Python code to create a list with strings and print the element at the third index:\n"
      ],
      "metadata": {
        "id": "5IZTxo4i8Ujc"
      }
    },
    {
      "cell_type": "code",
      "source": [
        "# Create a list with strings\n",
        "fruits = [\"apple\", \"banana\", \"cherry\", \"mango\", \"orange\"]\n",
        "\n",
        "# Print the element at the third index (indexing starts from 0)\n",
        "print(\"Element at third index:\", fruits[3])"
      ],
      "metadata": {
        "colab": {
          "base_uri": "https://localhost:8080/"
        },
        "id": "kewCrAOB8Xuj",
        "outputId": "f14a7588-f158-4d00-bca1-677f1d5c1a80"
      },
      "execution_count": 17,
      "outputs": [
        {
          "output_type": "stream",
          "name": "stdout",
          "text": [
            "Element at third index: mango\n"
          ]
        }
      ]
    },
    {
      "cell_type": "markdown",
      "source": [
        "29.WRITE A CODE TO COMBINE TWO DICTIONARIES INTO ONE AND PRINT THE RESULT."
      ],
      "metadata": {
        "id": "lXfDrIwU8h7j"
      }
    },
    {
      "cell_type": "markdown",
      "source": [
        "Here’s the Python code to combine two dictionaries into one and print the result:"
      ],
      "metadata": {
        "id": "5_03oX359N_S"
      }
    },
    {
      "cell_type": "code",
      "source": [
        "# Create two dictionaries\n",
        "dict1 = {'a': 1, 'b': 2}\n",
        "dict2 = {'c': 3, 'd': 4}\n",
        "\n",
        "# Combine dictionaries\n",
        "combined_dict = {**dict1, **dict2}\n",
        "\n",
        "# Print the result\n",
        "print(\"Combined Dictionary:\", combined_dict)"
      ],
      "metadata": {
        "colab": {
          "base_uri": "https://localhost:8080/"
        },
        "id": "WxnIUYal9aNU",
        "outputId": "1f9c9f25-135d-47e3-cf20-52802cd50a7d"
      },
      "execution_count": 18,
      "outputs": [
        {
          "output_type": "stream",
          "name": "stdout",
          "text": [
            "Combined Dictionary: {'a': 1, 'b': 2, 'c': 3, 'd': 4}\n"
          ]
        }
      ]
    },
    {
      "cell_type": "markdown",
      "source": [
        "30.WRITE A CODE TO CONVERT A LIST OF STRINGS INTO A SET."
      ],
      "metadata": {
        "id": "BUDtYPx39mRb"
      }
    },
    {
      "cell_type": "markdown",
      "source": [
        "Here’s the Python code to convert a list of strings into a set:\n"
      ],
      "metadata": {
        "id": "cRswFNgn-EWq"
      }
    },
    {
      "cell_type": "code",
      "source": [
        "# Create a list of strings\n",
        "fruits_list = [\"apple\", \"banana\", \"cherry\", \"apple\", \"banana\"]\n",
        "\n",
        "# Convert the list to a set\n",
        "fruits_set = set(fruits_list)\n",
        "\n",
        "# Print the set\n",
        "print(fruits_set)"
      ],
      "metadata": {
        "colab": {
          "base_uri": "https://localhost:8080/"
        },
        "id": "t-PCrd7_-Pdq",
        "outputId": "b83379cc-b137-40b5-ded9-9b7915845e73"
      },
      "execution_count": 19,
      "outputs": [
        {
          "output_type": "stream",
          "name": "stdout",
          "text": [
            "{'cherry', 'banana', 'apple'}\n"
          ]
        }
      ]
    },
    {
      "cell_type": "markdown",
      "source": [
        "✅ This automatically removes duplicates from the list."
      ],
      "metadata": {
        "id": "EUXa6qMv_WyK"
      }
    },
    {
      "cell_type": "markdown",
      "source": [],
      "metadata": {
        "id": "-112Vam__Yni"
      }
    }
  ]
}